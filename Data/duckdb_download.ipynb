{
 "cells": [
  {
   "cell_type": "markdown",
   "metadata": {},
   "source": [
    "# Download Overture Maps with DuckDB "
   ]
  },
  {
   "cell_type": "markdown",
   "metadata": {},
   "source": [
    "## What is DuckDB?\n",
    "DuckDB is designed to support analytical query workloads, also known as Online analytical processing (OLAP). It includes a columnar-vectorized query execution engine. This is more performant than traditional systems such as PostgreSQL, MySQL, or SQLite, which process each row sequentially. There are many plugins available. You can easily transfer your data in environments such as Amazon S3, Google Cloud Storage, postgresql using plugins. You can perform spatial analysis by installing the Spatial plugin."
   ]
  },
  {
   "cell_type": "markdown",
   "metadata": {},
   "source": [
    "### Creating a database"
   ]
  },
  {
   "cell_type": "code",
   "execution_count": 1,
   "metadata": {},
   "outputs": [],
   "source": [
    "import duckdb\n",
    "import geopandas as gpd\n",
    "db = duckdb.connect(\"data.db\")"
   ]
  },
  {
   "cell_type": "markdown",
   "metadata": {},
   "source": [
    "### Installing plug-ins for data access and spatial analysis\n",
    "We install the \"spatial\" plugin to perform spatial analysis.\n",
    "We are installing the \"httpfs\" plugin to access POI data in Amazon S3. Then we define the region as \"us-west-2\"."
   ]
  },
  {
   "cell_type": "code",
   "execution_count": 2,
   "metadata": {},
   "outputs": [],
   "source": [
    "db.sql(\"\"\"\n",
    "INSTALL spatial;\n",
    "INSTALL httpfs;\n",
    "LOAD spatial;\n",
    "LOAD httpfs;\n",
    "SET s3_region='us-west-2';\n",
    "\"\"\")\n"
   ]
  },
  {
   "cell_type": "code",
   "execution_count": 3,
   "metadata": {},
   "outputs": [],
   "source": [
    "# Parameters\n",
    "release = \"2024-03-12-alpha.0\"\n",
    "theme = \"transportation\"\n",
    "ptype = \"segment\"\n",
    "bbFile = \"C:\\\\Data\\\\GitHub\\\\jetgeo\\\\OM2UML\\\\Data\\\\StorOslo.geojson\""
   ]
  },
  {
   "cell_type": "markdown",
   "metadata": {},
   "source": [
    "Get the bounding box to search within. Use https://geojson.io/ to create a bounding box for your area of interest"
   ]
  },
  {
   "cell_type": "code",
   "execution_count": 4,
   "metadata": {},
   "outputs": [
    {
     "name": "stdout",
     "output_type": "stream",
     "text": [
      "Bounding Box (minx, miny, maxx, maxy): (10.387707, 59.818286, 11.103814, 60.021827)\n"
     ]
    }
   ],
   "source": [
    "# Bounding box\n",
    "import geojson\n",
    "from shapely.geometry import shape\n",
    "\n",
    "def get_bbox(geometry):\n",
    "    polygon = shape(geometry)\n",
    "    return polygon.bounds\n",
    "\n",
    "with open(bbFile) as f:\n",
    "    gj = geojson.load(f)\n",
    "    features = gj['features'][0]  # Assuming you want the first feature\n",
    "\n",
    "bbox = get_bbox(features['geometry'])\n",
    "print(\"Bounding Box (minx, miny, maxx, maxy):\", bbox)\n"
   ]
  },
  {
   "cell_type": "markdown",
   "metadata": {},
   "source": [
    "Get data and count the number of items"
   ]
  },
  {
   "cell_type": "code",
   "execution_count": 5,
   "metadata": {},
   "outputs": [
    {
     "data": {
      "application/vnd.jupyter.widget-view+json": {
       "model_id": "9530d3d1597442df827b3ea09c78296a",
       "version_major": 2,
       "version_minor": 0
      },
      "text/plain": [
       "FloatProgress(value=0.0, layout=Layout(width='auto'), style=ProgressStyle(bar_color='black'))"
      ]
     },
     "metadata": {},
     "output_type": "display_data"
    },
    {
     "name": "stdout",
     "output_type": "stream",
     "text": [
      "┌────────┐\n",
      "│ count  │\n",
      "│ int64  │\n",
      "├────────┤\n",
      "│ 130269 │\n",
      "└────────┘\n",
      "\n"
     ]
    }
   ],
   "source": [
    "# db.sql(\"\"\"\n",
    "#   create table places as \n",
    "#   select * from read_parquet('s3://overturemaps-us-west-2/release/2023-07-26-alpha.0/theme=places/type=*/*')\n",
    "# \"\"\")\n",
    "try:\n",
    "    db.sql(\"\"\"DROP VIEW \"\"\" + ptype)\n",
    "except:\n",
    "    print(\"No existing table \" + ptype)    \n",
    "\n",
    "strSql= \"\"\"CREATE VIEW \"\"\" + ptype + \"\"\" AS \n",
    "       SELECT * FROM read_parquet('s3://overturemaps-us-west-2/release/\"\"\" + release + \"\"\"/theme=\"\"\"+ theme + \"\"\"/type=\"\"\" + ptype + \"\"\"/*', filename=true, hive_partitioning=1)\n",
    "       WHERE \n",
    "              bbox.minx > \"\"\" + str(bbox[0])+ \"\"\" AND \n",
    "              bbox.miny > \"\"\" + str(bbox[1])+ \"\"\" AND\n",
    "              bbox.maxx < \"\"\" + str(bbox[2])+ \"\"\" AND \n",
    "              bbox.maxy < \"\"\" + str(bbox[3])+ \"\"\" ;\n",
    "       \"\"\"\n",
    "# print(strSql)\n",
    "db.sql(strSql)\n",
    "db.sql(\"\"\"select count(*) as count from \"\"\" + ptype).show()"
   ]
  },
  {
   "cell_type": "markdown",
   "metadata": {},
   "source": [
    "Print all column names in the data set "
   ]
  },
  {
   "cell_type": "code",
   "execution_count": 6,
   "metadata": {},
   "outputs": [
    {
     "name": "stdout",
     "output_type": "stream",
     "text": [
      "Column Names:\n",
      "id\n",
      "geometry\n",
      "bbox\n",
      "version\n",
      "update_time\n",
      "sources\n",
      "subtype\n",
      "names\n",
      "level\n",
      "connector_ids\n",
      "road\n",
      "filename\n",
      "theme\n",
      "type\n"
     ]
    }
   ],
   "source": [
    "res = db.sql('SELECT * FROM ' + ptype)\n",
    "# Get the column names\n",
    "column_names = res.columns\n",
    "\n",
    "# Print the list of column names\n",
    "print(\"Column Names:\")\n",
    "for name in column_names:\n",
    "    print(name)"
   ]
  },
  {
   "cell_type": "markdown",
   "metadata": {},
   "source": [
    "Write to json"
   ]
  },
  {
   "cell_type": "code",
   "execution_count": 7,
   "metadata": {},
   "outputs": [
    {
     "data": {
      "application/vnd.jupyter.widget-view+json": {
       "model_id": "cefd2b2dc12144df836d02441a139d29",
       "version_major": 2,
       "version_minor": 0
      },
      "text/plain": [
       "FloatProgress(value=0.0, layout=Layout(width='auto'), style=ProgressStyle(bar_color='black'))"
      ]
     },
     "metadata": {},
     "output_type": "display_data"
    },
    {
     "name": "stdout",
     "output_type": "stream",
     "text": [
      "Data written to segment.json in nicely formatted JSON format.\n"
     ]
    }
   ],
   "source": [
    "\n",
    "# Convert the result to a Pandas DataFrame\n",
    "df = res.df()\n",
    "# Remove some columns before exporting in order to reduce the file size\n",
    "columns_to_drop = ['geometry', 'bbox','filename','theme', 'type','sources','version']\n",
    "df.drop(columns=columns_to_drop, inplace=True)\n",
    "\n",
    "# Write the DataFrame to a nicely formatted JSON file\n",
    "output_file = ptype + \".json\"\n",
    "df.to_json(output_file, orient=\"records\", lines=True, indent=2)\n",
    "\n",
    "print(f\"Data written to {output_file} in nicely formatted JSON format.\")"
   ]
  },
  {
   "cell_type": "markdown",
   "metadata": {},
   "source": [
    "Convert geometry and write to GeoJSON with only a few attributes"
   ]
  },
  {
   "cell_type": "code",
   "execution_count": 8,
   "metadata": {},
   "outputs": [
    {
     "data": {
      "application/vnd.jupyter.widget-view+json": {
       "model_id": "a13e9fe7329c4462953d43dad479b247",
       "version_major": 2,
       "version_minor": 0
      },
      "text/plain": [
       "FloatProgress(value=0.0, layout=Layout(width='auto'), style=ProgressStyle(bar_color='black'))"
      ]
     },
     "metadata": {},
     "output_type": "display_data"
    }
   ],
   "source": [
    "db.sql(\"\"\"COPY (\n",
    "    SELECT ST_GeomFromWKB(\"\"\" + ptype + \"\"\".geometry) as geometry, id, subtype FROM \"\"\" + ptype + \"\"\"\n",
    ") TO '\"\"\" + ptype + \"\"\".geojson'\n",
    "WITH (FORMAT GDAL, DRIVER 'GeoJSON');\"\"\")"
   ]
  },
  {
   "cell_type": "markdown",
   "metadata": {},
   "source": [
    "Next: How to flatten the RoadType.class attribute?"
   ]
  },
  {
   "cell_type": "code",
   "execution_count": null,
   "metadata": {},
   "outputs": [],
   "source": [
    "#Flatten the RoadType.class attribute to Segment.class\n",
    "\n"
   ]
  },
  {
   "cell_type": "markdown",
   "metadata": {},
   "source": [
    "The content below is from https://github.com/Youssef-Harby/OvertureMapsDownloader "
   ]
  },
  {
   "cell_type": "code",
   "execution_count": 22,
   "metadata": {},
   "outputs": [
    {
     "data": {
      "application/vnd.jupyter.widget-view+json": {
       "model_id": "9eecf715e94e48da869b7b9de9b05c32",
       "version_major": 2,
       "version_minor": 0
      },
      "text/plain": [
       "FloatProgress(value=0.0, layout=Layout(width='auto'), style=ProgressStyle(bar_color='black'))"
      ]
     },
     "metadata": {},
     "output_type": "display_data"
    },
    {
     "name": "stdout",
     "output_type": "stream",
     "text": [
      "┌──────────────────────┬──────────────────────┬──────────────────────┬───┬────────────────┬─────────┐\n",
      "│          id          │       geometry       │         bbox         │ … │     theme      │  type   │\n",
      "│       varchar        │         blob         │ struct(minx double…  │   │    varchar     │ varchar │\n",
      "├──────────────────────┼──────────────────────┼──────────────────────┼───┼────────────────┼─────────┤\n",
      "│ 08a08a4aa6b17fff04…  │ \\x00\\x00\\x00\\x00\\x…  │ {'minx': 11.061659…  │ … │ transportation │ segment │\n",
      "│ 08b08a4aa6b16fff04…  │ \\x00\\x00\\x00\\x00\\x…  │ {'minx': 11.062199…  │ … │ transportation │ segment │\n",
      "│ 08b08a4aa44abfff04…  │ \\x00\\x00\\x00\\x00\\x…  │ {'minx': 11.056290…  │ … │ transportation │ segment │\n",
      "│ 08808a4aa45fffff04…  │ \\x00\\x00\\x00\\x00\\x…  │ {'minx': 11.055904…  │ … │ transportation │ segment │\n",
      "│ 08808a4aa45fffff04…  │ \\x00\\x00\\x00\\x00\\x…  │ {'minx': 11.055904…  │ … │ transportation │ segment │\n",
      "│ 08a08a4aa44e7fff04…  │ \\x00\\x00\\x00\\x00\\x…  │ {'minx': 11.056651…  │ … │ transportation │ segment │\n",
      "│ 08b08a4aa44f1fff04…  │ \\x00\\x00\\x00\\x00\\x…  │ {'minx': 11.057457…  │ … │ transportation │ segment │\n",
      "│ 08908a4aa44fffff04…  │ \\x00\\x00\\x00\\x00\\x…  │ {'minx': 11.056558…  │ … │ transportation │ segment │\n",
      "│ 08b08a4aa44e0fff04…  │ \\x00\\x00\\x00\\x00\\x…  │ {'minx': 11.056576…  │ … │ transportation │ segment │\n",
      "│ 08c08a4aa44e01ff04…  │ \\x00\\x00\\x00\\x00\\x…  │ {'minx': 11.056834…  │ … │ transportation │ segment │\n",
      "│          ·           │          ·           │          ·           │ · │       ·        │    ·    │\n",
      "│          ·           │          ·           │          ·           │ · │       ·        │    ·    │\n",
      "│          ·           │          ·           │          ·           │ · │       ·        │    ·    │\n",
      "│ 08908a4aa447ffff04…  │ \\x00\\x00\\x00\\x00\\x…  │ {'minx': 11.055939…  │ … │ transportation │ segment │\n",
      "│ 08908a4aa447ffff04…  │ \\x00\\x00\\x00\\x00\\x…  │ {'minx': 11.055805…  │ … │ transportation │ segment │\n",
      "│ 08a08a4aa445ffff04…  │ \\x00\\x00\\x00\\x00\\x…  │ {'minx': 11.057159…  │ … │ transportation │ segment │\n",
      "│ 08a08a4aa444ffff04…  │ \\x00\\x00\\x00\\x00\\x…  │ {'minx': 11.056269…  │ … │ transportation │ segment │\n",
      "│ 08a08a4aa444ffff04…  │ \\x00\\x00\\x00\\x00\\x…  │ {'minx': 11.056494…  │ … │ transportation │ segment │\n",
      "│ 08908a4aa447ffff04…  │ \\x00\\x00\\x00\\x00\\x…  │ {'minx': 11.056790…  │ … │ transportation │ segment │\n",
      "│ 08908a4aa447ffff04…  │ \\x00\\x00\\x00\\x00\\x…  │ {'minx': 11.056194…  │ … │ transportation │ segment │\n",
      "│ 08a08a4aa444ffff04…  │ \\x00\\x00\\x00\\x00\\x…  │ {'minx': 11.056969…  │ … │ transportation │ segment │\n",
      "│ 08a08a4aa448ffff04…  │ \\x00\\x00\\x00\\x00\\x…  │ {'minx': 11.057713…  │ … │ transportation │ segment │\n",
      "│ 08a08a4aa448ffff04…  │ \\x00\\x00\\x00\\x00\\x…  │ {'minx': 11.058619…  │ … │ transportation │ segment │\n",
      "├──────────────────────┴──────────────────────┴──────────────────────┴───┴────────────────┴─────────┤\n",
      "│ 25 rows (20 shown)                                                           14 columns (5 shown) │\n",
      "└───────────────────────────────────────────────────────────────────────────────────────────────────┘\n",
      "\n"
     ]
    }
   ],
   "source": [
    "db.sql(\"\"\"\n",
    "    select * from \"\"\" + ptype + \"\"\" limit 25\n",
    "\"\"\").show()\n"
   ]
  },
  {
   "cell_type": "markdown",
   "metadata": {},
   "source": [
    "You can find the diagram of the POI data [here](https://docs.overturemaps.org/reference/places/place/). There are columns in the data that we need to preprocess."
   ]
  },
  {
   "cell_type": "code",
   "execution_count": 8,
   "metadata": {},
   "outputs": [
    {
     "name": "stdout",
     "output_type": "stream",
     "text": [
      "┌──────────────────────┬──────────────────────┬─────────────────────┬──────────────────────┬───────────────────────────┐\n",
      "│        names         │      categories      │     confidence      │        brand         │         addresses         │\n",
      "│ map(varchar, map(v…  │ struct(main varcha…  │       double        │ struct(\"names\" map…  │  map(varchar, varchar)[]  │\n",
      "├──────────────────────┼──────────────────────┼─────────────────────┼──────────────────────┼───────────────────────────┤\n",
      "│ {common=[{value=Br…  │ {'main': veterinar…  │  0.5989174246788025 │ {'names': NULL, 'w…  │ [{postcode=LL57 2NX, fr…  │\n",
      "│ {common=[{value=Tr…  │ {'main': park, 'al…  │  0.9108787178993225 │ {'names': NULL, 'w…  │ [{country=AR}]            │\n",
      "│ {common=[{value=St…  │ {'main': beauty_sa…  │  0.9628990292549133 │ {'names': NULL, 'w…  │ [{locality=São Paulo, p…  │\n",
      "│ {common=[{value=เต้…  │ {'main': thai_rest…  │ 0.47563284635543823 │ {'names': NULL, 'w…  │ [{locality=Thap Sakae, …  │\n",
      "│ {common=[{value=ร้า…  │ {'main': community…  │  0.5783658027648926 │ {'names': NULL, 'w…  │ [{locality=Krabi, freef…  │\n",
      "└──────────────────────┴──────────────────────┴─────────────────────┴──────────────────────┴───────────────────────────┘\n",
      "\n"
     ]
    }
   ],
   "source": [
    "db.sql(\"\"\"\n",
    "    select names, categories, confidence,brand,addresses from places limit 5\n",
    "\"\"\").show()"
   ]
  },
  {
   "cell_type": "markdown",
   "metadata": {},
   "source": [
    "For example, in order to find out which category it is in the categories column, we need to get the information from the data held in the \"struct\" type. You can review the document to learn about DuckDB data types.\n",
    "For example, to extract which country you are located in the \"Addresses\" column:"
   ]
  },
  {
   "cell_type": "code",
   "execution_count": 9,
   "metadata": {},
   "outputs": [
    {
     "name": "stdout",
     "output_type": "stream",
     "text": [
      "┌─────────┐\n",
      "│ country │\n",
      "│ varchar │\n",
      "├─────────┤\n",
      "│ GB      │\n",
      "│ AR      │\n",
      "│ BR      │\n",
      "│ TH      │\n",
      "│ TH      │\n",
      "└─────────┘\n",
      "\n"
     ]
    }
   ],
   "source": [
    "db.sql(\"\"\"\n",
    "    select replace(json_extract(CAST(addresses AS JSON), '$[0].country')::varchar,'\"','') as country from places limit 5\n",
    "\"\"\").show()"
   ]
  },
  {
   "cell_type": "markdown",
   "metadata": {},
   "source": [
    "\n",
    "After creating a column called “country” to extract country short names, we add the extracted data."
   ]
  },
  {
   "cell_type": "code",
   "execution_count": 10,
   "metadata": {},
   "outputs": [
    {
     "name": "stdout",
     "output_type": "stream",
     "text": [
      "Catalog Error: Column with name country already exists!\n"
     ]
    }
   ],
   "source": [
    "try:\n",
    "       db.sql(\"\"\"ALTER TABLE places ADD COLUMN country VARCHAR;\n",
    "              update places set country = replace(json_extract(CAST(places.addresses AS JSON), '$[0].country')::varchar,'\"','')\n",
    "\n",
    "       \"\"\")\n",
    "except duckdb.Error as e:\n",
    "    print(e)\n",
    "    pass"
   ]
  },
  {
   "cell_type": "markdown",
   "metadata": {},
   "source": [
    "We run the following query to add the POI data in Turkey to a separate table and obtain the address, category, name, geometry information."
   ]
  },
  {
   "cell_type": "code",
   "execution_count": 11,
   "metadata": {},
   "outputs": [
    {
     "data": {
      "application/vnd.jupyter.widget-view+json": {
       "model_id": "ccabe498137b4a808e26d3dd32b15728",
       "version_major": 2,
       "version_minor": 0
      },
      "text/plain": [
       "FloatProgress(value=0.0, layout=Layout(width='auto'), style=ProgressStyle(bar_color='black'))"
      ]
     },
     "metadata": {},
     "output_type": "display_data"
    }
   ],
   "source": [
    "db.sql(\"\"\"\n",
    "       create or replace table turkey_places as (\n",
    "              select\n",
    "                     replace(json_extract(places.addresses::json,'$[0].locality'),'\"','')::varchar as locality,\n",
    "                     replace(json_extract(places.addresses::json,'$[0].region'),'\"','')::varchar as region,\n",
    "                     replace(json_extract(places.addresses::json,'$[0].postcode'),'\"','')::varchar as postcode,\n",
    "                     replace(json_extract(places.addresses::json,'$[0].freeform'),'\"','')::varchar as freeform,\n",
    "\n",
    "                     categories.main as categories_main,\n",
    "\n",
    "                     replace(json_extract(places.names::json,'$.common[0].value'),'\"','')::varchar as names,\n",
    "                     confidence,\n",
    "                     bbox,\n",
    "                     st_transform(st_point(st_y(st_geomfromwkb(geometry)),st_x(st_geomfromwkb(geometry))),'EPSG:4326','EPSG:3857') as geom\n",
    "\n",
    "\n",
    "              from places \n",
    "                     where country ='TR' \n",
    "       )\n",
    "\n",
    "\n",
    "\"\"\")"
   ]
  },
  {
   "cell_type": "markdown",
   "metadata": {},
   "source": [
    "Created table:"
   ]
  },
  {
   "cell_type": "code",
   "execution_count": 12,
   "metadata": {},
   "outputs": [
    {
     "data": {
      "text/html": [
       "<div>\n",
       "<style scoped>\n",
       "    .dataframe tbody tr th:only-of-type {\n",
       "        vertical-align: middle;\n",
       "    }\n",
       "\n",
       "    .dataframe tbody tr th {\n",
       "        vertical-align: top;\n",
       "    }\n",
       "\n",
       "    .dataframe thead th {\n",
       "        text-align: right;\n",
       "    }\n",
       "</style>\n",
       "<table border=\"1\" class=\"dataframe\">\n",
       "  <thead>\n",
       "    <tr style=\"text-align: right;\">\n",
       "      <th></th>\n",
       "      <th>locality</th>\n",
       "      <th>region</th>\n",
       "      <th>postcode</th>\n",
       "      <th>freeform</th>\n",
       "      <th>categories_main</th>\n",
       "      <th>names</th>\n",
       "      <th>confidence</th>\n",
       "      <th>bbox</th>\n",
       "      <th>geom</th>\n",
       "    </tr>\n",
       "  </thead>\n",
       "  <tbody>\n",
       "    <tr>\n",
       "      <th>0</th>\n",
       "      <td>None</td>\n",
       "      <td>None</td>\n",
       "      <td>None</td>\n",
       "      <td>None</td>\n",
       "      <td>public_plaza</td>\n",
       "      <td>Elite Mamak Society</td>\n",
       "      <td>0.630477</td>\n",
       "      <td>{'minx': 32.919501, 'maxx': 32.919501, 'miny':...</td>\n",
       "      <td>[0, 0, 24, 0, 0, 0, 0, 0, 0, 0, 0, 0, 1, 0, 0,...</td>\n",
       "    </tr>\n",
       "    <tr>\n",
       "      <th>1</th>\n",
       "      <td>Konya</td>\n",
       "      <td>42</td>\n",
       "      <td>42120</td>\n",
       "      <td>İlkay Sokak 8</td>\n",
       "      <td>professional_services</td>\n",
       "      <td>AGRO TÖKE</td>\n",
       "      <td>0.655315</td>\n",
       "      <td>{'minx': 32.522156, 'maxx': 32.522156, 'miny':...</td>\n",
       "      <td>[0, 0, 24, 0, 0, 0, 0, 0, 0, 0, 0, 0, 1, 0, 0,...</td>\n",
       "    </tr>\n",
       "    <tr>\n",
       "      <th>2</th>\n",
       "      <td>Kayseri</td>\n",
       "      <td>None</td>\n",
       "      <td>38010</td>\n",
       "      <td>Ufuk Sokak 1</td>\n",
       "      <td>local_and_state_government_offices</td>\n",
       "      <td>Sosyal Güvenlik Kurumu İl Müdürlüğü</td>\n",
       "      <td>0.606282</td>\n",
       "      <td>{'minx': 35.48468, 'maxx': 35.48468, 'miny': 3...</td>\n",
       "      <td>[0, 0, 24, 0, 0, 0, 0, 0, 0, 0, 0, 0, 1, 0, 0,...</td>\n",
       "    </tr>\n",
       "    <tr>\n",
       "      <th>3</th>\n",
       "      <td>Ankara</td>\n",
       "      <td>06</td>\n",
       "      <td>06300</td>\n",
       "      <td>492. Cadde 31/B</td>\n",
       "      <td>car_dealer</td>\n",
       "      <td>EYMEN OTO Kiralama</td>\n",
       "      <td>0.593438</td>\n",
       "      <td>{'minx': 32.8882484, 'maxx': 32.8882484, 'miny...</td>\n",
       "      <td>[0, 0, 24, 0, 0, 0, 0, 0, 0, 0, 0, 0, 1, 0, 0,...</td>\n",
       "    </tr>\n",
       "    <tr>\n",
       "      <th>4</th>\n",
       "      <td>Adana</td>\n",
       "      <td>01</td>\n",
       "      <td>01120</td>\n",
       "      <td>62017. Sokak 13</td>\n",
       "      <td>contractor</td>\n",
       "      <td>Gökpınar İnşaat</td>\n",
       "      <td>0.623355</td>\n",
       "      <td>{'minx': 35.3315582, 'maxx': 35.3315582, 'miny...</td>\n",
       "      <td>[0, 0, 24, 0, 0, 0, 0, 0, 0, 0, 0, 0, 1, 0, 0,...</td>\n",
       "    </tr>\n",
       "  </tbody>\n",
       "</table>\n",
       "</div>"
      ],
      "text/plain": [
       "  locality region postcode         freeform  \\\n",
       "0     None   None     None             None   \n",
       "1    Konya     42    42120    İlkay Sokak 8   \n",
       "2  Kayseri   None    38010     Ufuk Sokak 1   \n",
       "3   Ankara     06    06300  492. Cadde 31/B   \n",
       "4    Adana     01    01120  62017. Sokak 13   \n",
       "\n",
       "                      categories_main                                names  \\\n",
       "0                        public_plaza                  Elite Mamak Society   \n",
       "1               professional_services                            AGRO TÖKE   \n",
       "2  local_and_state_government_offices  Sosyal Güvenlik Kurumu İl Müdürlüğü   \n",
       "3                          car_dealer                   EYMEN OTO Kiralama   \n",
       "4                          contractor                      Gökpınar İnşaat   \n",
       "\n",
       "   confidence                                               bbox  \\\n",
       "0    0.630477  {'minx': 32.919501, 'maxx': 32.919501, 'miny':...   \n",
       "1    0.655315  {'minx': 32.522156, 'maxx': 32.522156, 'miny':...   \n",
       "2    0.606282  {'minx': 35.48468, 'maxx': 35.48468, 'miny': 3...   \n",
       "3    0.593438  {'minx': 32.8882484, 'maxx': 32.8882484, 'miny...   \n",
       "4    0.623355  {'minx': 35.3315582, 'maxx': 35.3315582, 'miny...   \n",
       "\n",
       "                                                geom  \n",
       "0  [0, 0, 24, 0, 0, 0, 0, 0, 0, 0, 0, 0, 1, 0, 0,...  \n",
       "1  [0, 0, 24, 0, 0, 0, 0, 0, 0, 0, 0, 0, 1, 0, 0,...  \n",
       "2  [0, 0, 24, 0, 0, 0, 0, 0, 0, 0, 0, 0, 1, 0, 0,...  \n",
       "3  [0, 0, 24, 0, 0, 0, 0, 0, 0, 0, 0, 0, 1, 0, 0,...  \n",
       "4  [0, 0, 24, 0, 0, 0, 0, 0, 0, 0, 0, 0, 1, 0, 0,...  "
      ]
     },
     "execution_count": 12,
     "metadata": {},
     "output_type": "execute_result"
    }
   ],
   "source": [
    "db.sql(\"\"\"\n",
    "select * from turkey_places limit 5\n",
    "\"\"\").df()"
   ]
  },
  {
   "cell_type": "markdown",
   "metadata": {},
   "source": [
    "As an example, I will examine the POI data in Istanbul. I created two tables to obtain the POI points located within 500 m of the designated park points."
   ]
  },
  {
   "cell_type": "code",
   "execution_count": 13,
   "metadata": {},
   "outputs": [],
   "source": [
    "db.sql(\"\"\"\n",
    "    create or replace table park_ist as (\n",
    "        select * from turkey_places where locality = 'İstanbul' and categories_main='park'   \n",
    "    );\n",
    "\n",
    "    create or replace table poi_ist as (\n",
    "        select * from turkey_places where locality = 'İstanbul' and categories_main <> 'park'\n",
    "    )\n",
    "\n",
    "\"\"\")"
   ]
  },
  {
   "cell_type": "markdown",
   "metadata": {},
   "source": [
    "Number of POIs in Istanbul:"
   ]
  },
  {
   "cell_type": "code",
   "execution_count": 14,
   "metadata": {},
   "outputs": [
    {
     "data": {
      "text/plain": [
       "'\\ncount\\n  181959\\n'"
      ]
     },
     "execution_count": 14,
     "metadata": {},
     "output_type": "execute_result"
    }
   ],
   "source": [
    "db.sql(\n",
    "    \"\"\"\n",
    "select count(*) from poi_ist\n",
    "\n",
    "\"\"\"\n",
    ")\n",
    "'''\n",
    "count\n",
    "  181959\n",
    "'''"
   ]
  },
  {
   "cell_type": "markdown",
   "metadata": {},
   "source": [
    "Number of POIs designated as Parks in Istanbul:"
   ]
  },
  {
   "cell_type": "code",
   "execution_count": 15,
   "metadata": {},
   "outputs": [
    {
     "data": {
      "text/plain": [
       "'\\ncount\\n  492\\n'"
      ]
     },
     "execution_count": 15,
     "metadata": {},
     "output_type": "execute_result"
    }
   ],
   "source": [
    "db.sql(\n",
    "    \"\"\"\n",
    "select count(*) from park_ist\n",
    "\n",
    "\"\"\")\n",
    "\n",
    "'''\n",
    "count\n",
    "  492\n",
    "'''\n"
   ]
  },
  {
   "cell_type": "markdown",
   "metadata": {},
   "source": [
    "To query the POI points within 500 m of the points included in the park category:"
   ]
  },
  {
   "cell_type": "code",
   "execution_count": 16,
   "metadata": {},
   "outputs": [
    {
     "data": {
      "application/vnd.jupyter.widget-view+json": {
       "model_id": "42ccf234d9d04bf7a519d109a7cf5a3b",
       "version_major": 2,
       "version_minor": 0
      },
      "text/plain": [
       "FloatProgress(value=0.0, layout=Layout(width='auto'), style=ProgressStyle(bar_color='black'))"
      ]
     },
     "metadata": {},
     "output_type": "display_data"
    }
   ],
   "source": [
    "df = db.sql(\"\"\"\n",
    "              select  poi_ist.region as poi_ist_region,poi_ist.freeform as poi_ist_freeform,poi_ist.categories_main as poi_ist_categori ,\n",
    "              park_ist.categories_main as park_categori , park_ist.names as park_names, park_ist.freeform as park_ist_freeform,\n",
    "\n",
    "              st_distance(poi_ist.geom,park_ist.geom) as dist,\n",
    "              ST_AsText(poi_ist.geom) as geom,\n",
    "              ST_AsText(park_ist.geom) as geom2\n",
    "\n",
    "              from poi_ist, park_ist \n",
    "\n",
    "              where ST_DWithin(poi_ist.geom, park_ist.geom,500) \n",
    "       \"\"\").to_df()\n",
    "\n",
    "gdf = gpd.GeoDataFrame(df,geometry= gpd.GeoSeries.from_wkt(df['geom']),crs=\"EPSG:3857\")\n",
    "gdf.to_file(\"poi.geojson\",driver=\"GeoJSON\")"
   ]
  },
  {
   "cell_type": "code",
   "execution_count": null,
   "metadata": {},
   "outputs": [],
   "source": []
  }
 ],
 "metadata": {
  "kernelspec": {
   "display_name": "overturemapsdownloader-W8Mf4UPw-py3.11",
   "language": "python",
   "name": "python3"
  },
  "language_info": {
   "codemirror_mode": {
    "name": "ipython",
    "version": 3
   },
   "file_extension": ".py",
   "mimetype": "text/x-python",
   "name": "python",
   "nbconvert_exporter": "python",
   "pygments_lexer": "ipython3",
   "version": "3.12.2"
  },
  "orig_nbformat": 4
 },
 "nbformat": 4,
 "nbformat_minor": 2
}
