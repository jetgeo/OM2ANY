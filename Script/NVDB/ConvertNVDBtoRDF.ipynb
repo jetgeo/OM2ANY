{
 "cells": [
  {
   "cell_type": "markdown",
   "metadata": {},
   "source": [
    "# Read data from NVDB and convert to RDF for comparision with Overture Maps"
   ]
  },
  {
   "cell_type": "code",
   "execution_count": null,
   "metadata": {},
   "outputs": [],
   "source": [
    "import sys, datetime\n",
    "from rdflib import Graph, Namespace\n",
    "\n",
    "# Parameters\n",
    "rootPath = \n"
   ]
  },
  {
   "cell_type": "markdown",
   "metadata": {},
   "source": []
  }
 ],
 "metadata": {
  "language_info": {
   "name": "python"
  }
 },
 "nbformat": 4,
 "nbformat_minor": 2
}
