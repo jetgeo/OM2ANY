{
 "cells": [
  {
   "cell_type": "markdown",
   "metadata": {},
   "source": [
    "# Read data from NVDB and convert to RDF for comparision with Overture Maps"
   ]
  },
  {
   "cell_type": "markdown",
   "metadata": {},
   "source": [
    "Libraries and parameters"
   ]
  },
  {
   "cell_type": "code",
   "execution_count": 1,
   "metadata": {},
   "outputs": [
    {
     "name": "stdout",
     "output_type": "stream",
     "text": [
      "Føyer C:\\DATA\\GitHub\\vegvesen\\NVDB-Datakatalogen\\owl til søkestien\n"
     ]
    }
   ],
   "source": [
    "import sys, datetime\n",
    "from rdflib import Graph, Namespace\n",
    "import nvdbapiv3\n",
    "from nvdb2rdf import *\n",
    "import geopandas as gpd\n",
    "from shapely import Point\n",
    "\n",
    "# Parameters\n",
    "rootPath = \"C:\\\\Data\\\\GitHub\\\\jetgeo\\\\OM2ANY\"\n",
    "\n",
    "#NVDB Paths\n",
    "nvdbOtlFilePath = \"C:\\\\Data\\\\GitHub\\\\jetgeo\\\\OM2ANY\\\\OWL\\\\nvdb\\\\nvdb-owl.ttl\"\n",
    "nvdbVoIRI = \"https://ontologi.atlas.vegvesen.no/nvdb/core/nvdb-owl/vegobjekt#\"\n",
    "nvdbVnIRI = \"https://ontologi.atlas.vegvesen.no/nvdb/core/vegnett#\"\n",
    "nvdbOtlIRI = \"https://ontologi.atlas.vegvesen.no/nvdb/core/nvdb-owl#\"\n",
    "\n",
    "#INSPIRE Paths\n",
    "itnrOtlFilePath = \"C:\\\\Data\\\\GitHub\\\\jetgeo\\\\OM2ANY\\\\OWL\\\\inspire\\\\itnr-owl.ttl\"\n",
    "itnrOtlIRI = \"http://inspire.ec.europa.eu/ont\"\n",
    "featuretypeid = 105\n",
    "knr = 3403\n"
   ]
  },
  {
   "cell_type": "markdown",
   "metadata": {},
   "source": [
    "Read ontologies"
   ]
  },
  {
   "cell_type": "code",
   "execution_count": null,
   "metadata": {},
   "outputs": [],
   "source": [
    "# ---------------------------------------------------------------------------------------------\n",
    "startTime = datetime.datetime.now()\n",
    "# ---------------------------------------------------------------------------------------------\n",
    "# Leser NVDB-ontologien til graf for objekttypebiblioteker\n",
    "print(str(datetime.datetime.now()) + ' Leser inn NVDB-OTL fra ', nvdbOtlFilePath)\n",
    "otl_nvdb = Graph()\n",
    "otl_nvdb.parse(nvdbOtlFilePath, format=\"turtle\")\n",
    "# Leser INSPIRE-ontologien til egen graf\n",
    "print(str(datetime.datetime.now()) + ' Leser inn INSPIRE-OTL fra ', itnrOtlFilePath)\n",
    "otl_itnr = Graph()\n",
    "otl_itnr.parse(itnrOtlFilePath, format=\"turtle\")\n",
    "#Slår sammen alle ontologier til en stor graf\n",
    "print(str(datetime.datetime.now()) + ' Slår sammen ontologiene')\n",
    "otl = Graph()\n",
    "otl = otl_nvdb + otl_itnr \n",
    "# Setter opp graf og namespace-forkortelser for NVDB-data\n",
    "print(str(datetime.datetime.now()) + ' Setter opp graf og namespace-forkortelser for data')\n",
    "g_nvdb=Graph()\n",
    "g_nvdb.bind(\"nvdb_vo\", Namespace(nvdbVoIRI)) #IRI for NVDB-Objekter\n",
    "g_nvdb.bind(\"nvdb_vn\", Namespace(nvdbVnIRI)) #IRI for NVDB Vegnett\n",
    "g_nvdb.bind(\"nvdb_otl\",Namespace(nvdbOtlIRI))\n",
    "g_nvdb.bind(\"gsp\",'http://www.opengis.net/ont/geosparql#')\n",
    "g_nvdb.bind(\"nvdb_otl\",Namespace(nvdbOtlIRI))\n",
    "\n",
    "\n",
    "# ---------------------------------------------------------------------------------------------"
   ]
  },
  {
   "cell_type": "markdown",
   "metadata": {},
   "source": [
    "Read data from NVDB and convert to RDF"
   ]
  },
  {
   "cell_type": "code",
   "execution_count": null,
   "metadata": {},
   "outputs": [],
   "source": [
    "g_nvdb = nvdb2graph(featuretypeid, knr, otl_nvdb)"
   ]
  },
  {
   "cell_type": "markdown",
   "metadata": {},
   "source": [
    "Print to Turtle"
   ]
  },
  {
   "cell_type": "code",
   "execution_count": null,
   "metadata": {},
   "outputs": [],
   "source": [
    "fileName = rootPath + \"\\\\data\\\\nvdb_\" + str(featuretypeid) + \"_\" + str(knr) + \".ttl.\"\n",
    "print(str(datetime.datetime.now()) + ' Skriver til NVDB-Turtle-fil: ' + fileName)\n",
    "g_nvdb.serialize(destination=fileName, format=\"turtle\")"
   ]
  },
  {
   "cell_type": "markdown",
   "metadata": {},
   "source": [
    "Read road network from NVDB and create GeoDataFrame with nodes"
   ]
  },
  {
   "cell_type": "code",
   "execution_count": 7,
   "metadata": {},
   "outputs": [
    {
     "name": "stdout",
     "output_type": "stream",
     "text": [
      "Filter: {'kommune': 3403}\n",
      "       node_id                        geometry\n",
      "0       725721  POINT (297063.400 6749772.090)\n",
      "1      3046118  POINT (297075.800 6749787.090)\n",
      "3      2265258  POINT (297390.103 6751979.667)\n",
      "4       725871  POINT (297388.510 6752007.340)\n",
      "5      1775363  POINT (297384.690 6752094.750)\n",
      "...        ...                             ...\n",
      "25203  3737645  POINT (285899.552 6748790.942)\n",
      "25205  3737644  POINT (285836.900 6748781.750)\n",
      "25207  3737643  POINT (285604.790 6748798.870)\n",
      "25208  3758918  POINT (287106.023 6747414.648)\n",
      "25211  3758920  POINT (287106.630 6747432.549)\n",
      "\n",
      "[10262 rows x 2 columns]\n",
      "GeoDataFrame exported to result.geojson\n"
     ]
    }
   ],
   "source": [
    "v = nvdbapiv3.nvdbVegnett()\n",
    "v.filter( { 'kommune' : knr } )\n",
    "print(\"Filter: \" + str(v.filterdata))\n",
    "\n",
    "# Create an empty list to store dictionaries\n",
    "data_list = []\t\n",
    "\n",
    "ettNvdbObj = v.nesteForekomst()\n",
    "while ettNvdbObj: \n",
    "\t#print (ettNvdbObj)\n",
    "\n",
    "\twkt_coordinates = ettNvdbObj['geometri']['wkt']\n",
    "\tstartnode = ettNvdbObj['startnode']\n",
    "\tendnode = ettNvdbObj['sluttnode']\n",
    "\t\n",
    "\t# Extract the first and last coordinate triple from 'wkt'\n",
    "\tcoordinates_list = wkt_coordinates.split(', ')\n",
    "\tfirst_coordinate = coordinates_list[0].replace('LINESTRING Z(', '').split()\n",
    "\tlast_coordinate = coordinates_list[-1].replace(')', '').split()\n",
    "\n",
    "\t# print(f\"Veglenkesegment: {ettNvdbObj['veglenkesekvensid']} {ettNvdbObj['referanse']}\" )\n",
    "\t# print(f\"Startnode: {startnode} (First Coordinate: {first_coordinate})\")\n",
    "\t# print(f\"Endnode: {endnode} (Last Coordinate: {last_coordinate})\")\n",
    "\t# print(\"-\" * 50)\n",
    "\n",
    "    # Parse coordinates into Point objects\n",
    "\tstart_point = Point(float(first_coordinate[0]), float(first_coordinate[1]))\n",
    "\tend_point = Point(float(last_coordinate[0]), float(last_coordinate[1]))\n",
    "    # Create dictionaries for start and end nodes and append to the list\n",
    "\tdict = {'node_id': ettNvdbObj['startnode'], 'geometry': start_point}\n",
    "\tdata_list.append(dict)\t\n",
    "\tdict = {'node_id': ettNvdbObj['sluttnode'], 'geometry': end_point}\n",
    "\tdata_list.append(dict)\n",
    "\t\n",
    "\tettNvdbObj = v.nesteForekomst()\n",
    "\n",
    "# Create a GeoDataFrame from the list of dictionaries and drop duplicates\n",
    "gdf = gpd.GeoDataFrame(data_list)\n",
    "gdf.drop_duplicates(subset='node_id', inplace=True)\n",
    "# Print the GeoDataFrame\n",
    "print(gdf)\t\n",
    "\n",
    "# Export the GeoDataFrame to GeoJSON format\n",
    "gdf.to_file(rootPath + \"\\\\data\\\\NVDB\\\\result.geojson\", driver=\"GeoJSON\")\n",
    "\n",
    "# Print a success message\n",
    "print(\"GeoDataFrame exported to result.geojson\")\n"
   ]
  }
 ],
 "metadata": {
  "kernelspec": {
   "display_name": "Python 3",
   "language": "python",
   "name": "python3"
  },
  "language_info": {
   "codemirror_mode": {
    "name": "ipython",
    "version": 3
   },
   "file_extension": ".py",
   "mimetype": "text/x-python",
   "name": "python",
   "nbconvert_exporter": "python",
   "pygments_lexer": "ipython3",
   "version": "3.12.3"
  }
 },
 "nbformat": 4,
 "nbformat_minor": 2
}
