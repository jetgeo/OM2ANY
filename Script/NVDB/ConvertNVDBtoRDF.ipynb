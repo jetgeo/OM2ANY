{
 "cells": [
  {
   "cell_type": "markdown",
   "metadata": {},
   "source": [
    "# Read data from NVDB and convert to RDF for comparision with Overture Maps"
   ]
  },
  {
   "cell_type": "code",
   "execution_count": null,
   "metadata": {},
   "outputs": [],
   "source": [
    "import sys, datetime\n",
    "from rdflib import Graph, Namespace\n",
    "\n",
    "# Parameters\n",
    "rootPath = \"C:\\+Data\\\\GitHub\\\\jetgeo\\\\OM2ANY\"\n",
    "nvdb_otl = \"C:\\\\Data\\\\GitHub\\\\jetgeo\\\\OM2ANY\\\\OWL\\\\nvdb\\\\nvdb-owl.ttl\"\n",
    "\n"
   ]
  },
  {
   "cell_type": "markdown",
   "metadata": {},
   "source": []
  }
 ],
 "metadata": {
  "language_info": {
   "name": "python"
  }
 },
 "nbformat": 4,
 "nbformat_minor": 2
}
